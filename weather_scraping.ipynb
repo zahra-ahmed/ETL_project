{
 "cells": [
  {
   "cell_type": "code",
   "execution_count": 1,
   "metadata": {},
   "outputs": [],
   "source": [
    "#dependencies\n",
    "\n",
    "import pandas as pd"
   ]
  },
  {
   "cell_type": "code",
   "execution_count": 2,
   "metadata": {},
   "outputs": [],
   "source": [
    "# urls to be scraped\n",
    "\n",
    "url_min = 'http://www.usa.com/rank/us--average-min-temperature--state-rank.htm?yr=9000&dis=&wist=&plow=&phigh='\n",
    "url_max = 'http://www.usa.com/rank/us--average-max-temperature--state-rank.htm?yr=9000&dis=&wist=&plow=&phigh='"
   ]
  },
  {
   "cell_type": "code",
   "execution_count": 3,
   "metadata": {},
   "outputs": [
    {
     "data": {
      "text/plain": [
       "[       0                           1                               2\n",
       " 0   Rank  Average Min. Temperature ▼              State / Population\n",
       " 1     1.                     65.09°F              Hawaii / 1,392,704\n",
       " 2     2.                     61.50°F            Florida / 19,361,792\n",
       " 3     3.                     56.07°F           Louisiana / 4,601,049\n",
       " 4     4.                     54.16°F              Texas / 26,092,033\n",
       " 5     5.                     52.26°F         Mississippi / 2,984,345\n",
       " 6     6.                     51.31°F             Arizona / 6,561,516\n",
       " 7     7.                     51.01°F             Alabama / 4,817,678\n",
       " 8     8.                     50.69°F             Georgia / 9,907,756\n",
       " 9     9.                     49.82°F      South Carolina / 4,727,273\n",
       " 10   10.                     48.97°F         California / 38,066,920\n",
       " 11   11.                     48.72°F            Arkansas / 2,947,036\n",
       " 12   12.                     48.17°F            Oklahoma / 3,818,851\n",
       " 13   13.                     47.21°F      North Carolina / 9,750,405\n",
       " 14   14.                     46.90°F           Tennessee / 6,451,365\n",
       " 15   15.                     44.54°F  District of Columbia / 633,736\n",
       " 16   16.                     44.26°F            Virginia / 8,185,131\n",
       " 17   17.                     44.25°F            Kentucky / 4,383,272\n",
       " 18   18.                     44.21°F              Delaware / 917,060\n",
       " 19   19.                     44.19°F            Maryland / 5,887,776\n",
       " 20   20.                     43.84°F            Missouri / 6,028,076\n",
       " 21   21.                     42.75°F              Nevada / 2,761,584\n",
       " 22   22.                     42.72°F              Kansas / 2,882,946\n",
       " 23   23.                     41.65°F             Indiana / 6,542,411\n",
       " 24   24.                     41.61°F       West Virginia / 1,853,881\n",
       " 25   25.                     41.45°F          New Jersey / 8,874,374\n",
       " 26   26.                     41.18°F           Illinois / 12,868,747\n",
       " 27   27.                     40.79°F               Ohio / 11,560,380\n",
       " 28   28.                     40.76°F          Washington / 6,899,123\n",
       " 29   29.                     40.11°F              Oregon / 3,900,343\n",
       " 30   30.                     39.29°F       Pennsylvania / 12,758,729\n",
       " 31   31.                     39.02°F        Rhode Island / 1,053,252\n",
       " 32   32.                     38.34°F           New York / 19,594,330\n",
       " 33   33.                     37.95°F         Connecticut / 3,592,053\n",
       " 34   34.                     37.82°F            Nebraska / 1,855,617\n",
       " 35   35.                     37.67°F                Iowa / 3,078,116\n",
       " 36   36.                     37.63°F       Massachusetts / 6,657,291\n",
       " 37   37.                     37.46°F          New Mexico / 2,080,085\n",
       " 38   38.                     36.73°F            Michigan / 9,889,024\n",
       " 39   39.                     36.27°F                Utah / 2,858,111\n",
       " 40   40.                     34.44°F           Wisconsin / 5,724,692\n",
       " 41   41.                     33.78°F          South Dakota / 834,708\n",
       " 42   42.                     33.29°F               Idaho / 1,599,464\n",
       " 43   43.                     33.23°F       New Hampshire / 1,321,069\n",
       " 44   44.                     32.96°F               Vermont / 626,358\n",
       " 45   45.                     32.53°F               Maine / 1,328,535\n",
       " 46   46.                     32.49°F           Minnesota / 5,383,661\n",
       " 47   47.                     31.65°F            Colorado / 5,197,580\n",
       " 48   48.                     31.05°F             Montana / 1,006,370\n",
       " 49   49.                     29.38°F          North Dakota / 704,925\n",
       " 50   50.                     29.22°F               Wyoming / 575,251\n",
       " 51   51.                     24.23°F                Alaska / 728,300]"
      ]
     },
     "execution_count": 3,
     "metadata": {},
     "output_type": "execute_result"
    }
   ],
   "source": [
    "# use pandas to read html tables\n",
    "\n",
    "table_min = pd.read_html(url_min)\n",
    "table_min"
   ]
  },
  {
   "cell_type": "code",
   "execution_count": 4,
   "metadata": {},
   "outputs": [
    {
     "data": {
      "text/plain": [
       "[       0                           1                               2\n",
       " 0   Rank  Average Max. Temperature ▼              State / Population\n",
       " 1     1.                     81.97°F            Florida / 19,361,792\n",
       " 2     2.                     80.66°F              Hawaii / 1,392,704\n",
       " 3     3.                     80.59°F             Arizona / 6,561,516\n",
       " 4     4.                     77.73°F              Texas / 26,092,033\n",
       " 5     5.                     77.33°F           Louisiana / 4,601,049\n",
       " 6     6.                     74.67°F         Mississippi / 2,984,345\n",
       " 7     7.                     74.31°F             Alabama / 4,817,678\n",
       " 8     8.                     73.90°F             Georgia / 9,907,756\n",
       " 9     9.                     73.58°F      South Carolina / 4,727,273\n",
       " 10   10.                     73.36°F         California / 38,066,920\n",
       " 11   11.                     72.04°F            Oklahoma / 3,818,851\n",
       " 12   12.                     71.64°F              Nevada / 2,761,584\n",
       " 13   13.                     71.42°F            Arkansas / 2,947,036\n",
       " 14   14.                     70.16°F      North Carolina / 9,750,405\n",
       " 15   15.                     69.30°F           Tennessee / 6,451,365\n",
       " 16   16.                     68.66°F          New Mexico / 2,080,085\n",
       " 17   17.                     66.98°F            Kentucky / 4,383,272\n",
       " 18   18.                     66.77°F            Virginia / 8,185,131\n",
       " 19   19.                     66.58°F              Kansas / 2,882,946\n",
       " 20   20.                     65.53°F            Missouri / 6,028,076\n",
       " 21   21.                     65.08°F            Maryland / 5,887,776\n",
       " 22   22.                     65.02°F  District of Columbia / 633,736\n",
       " 23   23.                     64.62°F              Delaware / 917,060\n",
       " 24   24.                     64.51°F       West Virginia / 1,853,881\n",
       " 25   25.                     62.85°F                Utah / 2,858,111\n",
       " 26   26.                     62.40°F          New Jersey / 8,874,374\n",
       " 27   27.                     62.36°F              Oregon / 3,900,343\n",
       " 28   28.                     61.91°F            Nebraska / 1,855,617\n",
       " 29   29.                     61.91°F             Indiana / 6,542,411\n",
       " 30   30.                     61.51°F           Illinois / 12,868,747\n",
       " 31   31.                     60.94°F               Ohio / 11,560,380\n",
       " 32   32.                     60.84°F            Colorado / 5,197,580\n",
       " 33   33.                     60.31°F       Pennsylvania / 12,758,729\n",
       " 34   34.                     60.09°F          Washington / 6,899,123\n",
       " 35   35.                     59.56°F        Rhode Island / 1,053,252\n",
       " 36   36.                     59.31°F               Idaho / 1,599,464\n",
       " 37   37.                     59.27°F         Connecticut / 3,592,053\n",
       " 38   38.                     58.61°F       Massachusetts / 6,657,291\n",
       " 39   39.                     58.57°F                Iowa / 3,078,116\n",
       " 40   40.                     58.01°F           New York / 19,594,330\n",
       " 41   41.                     57.63°F               Wyoming / 575,251\n",
       " 42   42.                     57.27°F             Montana / 1,006,370\n",
       " 43   43.                     57.26°F          South Dakota / 834,708\n",
       " 44   44.                     56.48°F            Michigan / 9,889,024\n",
       " 45   45.                     55.69°F       New Hampshire / 1,321,069\n",
       " 46   46.                     54.96°F           Wisconsin / 5,724,692\n",
       " 47   47.                     54.48°F               Vermont / 626,358\n",
       " 48   48.                     53.65°F               Maine / 1,328,535\n",
       " 49   49.                     53.41°F           Minnesota / 5,383,661\n",
       " 50   50.                     52.13°F          North Dakota / 704,925\n",
       " 51   51.                     39.80°F                Alaska / 728,300]"
      ]
     },
     "execution_count": 4,
     "metadata": {},
     "output_type": "execute_result"
    }
   ],
   "source": [
    "table_max = pd.read_html(url_max)\n",
    "table_max"
   ]
  },
  {
   "cell_type": "markdown",
   "metadata": {},
   "source": [
    "## Average Min Temperature Values"
   ]
  },
  {
   "cell_type": "code",
   "execution_count": 5,
   "metadata": {},
   "outputs": [
    {
     "data": {
      "text/html": [
       "<div>\n",
       "<style scoped>\n",
       "    .dataframe tbody tr th:only-of-type {\n",
       "        vertical-align: middle;\n",
       "    }\n",
       "\n",
       "    .dataframe tbody tr th {\n",
       "        vertical-align: top;\n",
       "    }\n",
       "\n",
       "    .dataframe thead th {\n",
       "        text-align: right;\n",
       "    }\n",
       "</style>\n",
       "<table border=\"1\" class=\"dataframe\">\n",
       "  <thead>\n",
       "    <tr style=\"text-align: right;\">\n",
       "      <th></th>\n",
       "      <th>0</th>\n",
       "      <th>1</th>\n",
       "      <th>2</th>\n",
       "    </tr>\n",
       "  </thead>\n",
       "  <tbody>\n",
       "    <tr>\n",
       "      <th>0</th>\n",
       "      <td>Rank</td>\n",
       "      <td>Average Min. Temperature ▼</td>\n",
       "      <td>State / Population</td>\n",
       "    </tr>\n",
       "    <tr>\n",
       "      <th>1</th>\n",
       "      <td>1.</td>\n",
       "      <td>65.09°F</td>\n",
       "      <td>Hawaii / 1,392,704</td>\n",
       "    </tr>\n",
       "    <tr>\n",
       "      <th>2</th>\n",
       "      <td>2.</td>\n",
       "      <td>61.50°F</td>\n",
       "      <td>Florida / 19,361,792</td>\n",
       "    </tr>\n",
       "    <tr>\n",
       "      <th>3</th>\n",
       "      <td>3.</td>\n",
       "      <td>56.07°F</td>\n",
       "      <td>Louisiana / 4,601,049</td>\n",
       "    </tr>\n",
       "    <tr>\n",
       "      <th>4</th>\n",
       "      <td>4.</td>\n",
       "      <td>54.16°F</td>\n",
       "      <td>Texas / 26,092,033</td>\n",
       "    </tr>\n",
       "  </tbody>\n",
       "</table>\n",
       "</div>"
      ],
      "text/plain": [
       "      0                           1                      2\n",
       "0  Rank  Average Min. Temperature ▼     State / Population\n",
       "1    1.                     65.09°F     Hawaii / 1,392,704\n",
       "2    2.                     61.50°F   Florida / 19,361,792\n",
       "3    3.                     56.07°F  Louisiana / 4,601,049\n",
       "4    4.                     54.16°F     Texas / 26,092,033"
      ]
     },
     "execution_count": 5,
     "metadata": {},
     "output_type": "execute_result"
    }
   ],
   "source": [
    "# transfer list into dataframe\n",
    "\n",
    "min_df = table_min[0]\n",
    "min_df.head()"
   ]
  },
  {
   "cell_type": "code",
   "execution_count": 6,
   "metadata": {},
   "outputs": [
    {
     "data": {
      "text/html": [
       "<div>\n",
       "<style scoped>\n",
       "    .dataframe tbody tr th:only-of-type {\n",
       "        vertical-align: middle;\n",
       "    }\n",
       "\n",
       "    .dataframe tbody tr th {\n",
       "        vertical-align: top;\n",
       "    }\n",
       "\n",
       "    .dataframe thead th {\n",
       "        text-align: right;\n",
       "    }\n",
       "</style>\n",
       "<table border=\"1\" class=\"dataframe\">\n",
       "  <thead>\n",
       "    <tr style=\"text-align: right;\">\n",
       "      <th></th>\n",
       "      <th>Rank</th>\n",
       "      <th>Average Min. Temperature ▼</th>\n",
       "      <th>State / Population</th>\n",
       "    </tr>\n",
       "  </thead>\n",
       "  <tbody>\n",
       "    <tr>\n",
       "      <th>0</th>\n",
       "      <td>Rank</td>\n",
       "      <td>Average Min. Temperature ▼</td>\n",
       "      <td>State / Population</td>\n",
       "    </tr>\n",
       "    <tr>\n",
       "      <th>1</th>\n",
       "      <td>1.</td>\n",
       "      <td>65.09°F</td>\n",
       "      <td>Hawaii / 1,392,704</td>\n",
       "    </tr>\n",
       "    <tr>\n",
       "      <th>2</th>\n",
       "      <td>2.</td>\n",
       "      <td>61.50°F</td>\n",
       "      <td>Florida / 19,361,792</td>\n",
       "    </tr>\n",
       "    <tr>\n",
       "      <th>3</th>\n",
       "      <td>3.</td>\n",
       "      <td>56.07°F</td>\n",
       "      <td>Louisiana / 4,601,049</td>\n",
       "    </tr>\n",
       "    <tr>\n",
       "      <th>4</th>\n",
       "      <td>4.</td>\n",
       "      <td>54.16°F</td>\n",
       "      <td>Texas / 26,092,033</td>\n",
       "    </tr>\n",
       "  </tbody>\n",
       "</table>\n",
       "</div>"
      ],
      "text/plain": [
       "0  Rank  Average Min. Temperature ▼     State / Population\n",
       "0  Rank  Average Min. Temperature ▼     State / Population\n",
       "1    1.                     65.09°F     Hawaii / 1,392,704\n",
       "2    2.                     61.50°F   Florida / 19,361,792\n",
       "3    3.                     56.07°F  Louisiana / 4,601,049\n",
       "4    4.                     54.16°F     Texas / 26,092,033"
      ]
     },
     "execution_count": 6,
     "metadata": {},
     "output_type": "execute_result"
    }
   ],
   "source": [
    "# make column headers\n",
    "\n",
    "min_df.columns = min_df.iloc[0]\n",
    "min_df.head()"
   ]
  },
  {
   "cell_type": "code",
   "execution_count": 7,
   "metadata": {},
   "outputs": [],
   "source": [
    "# drop first line\n",
    "\n",
    "min_df = min_df.drop(min_df.index[0])"
   ]
  },
  {
   "cell_type": "code",
   "execution_count": 8,
   "metadata": {},
   "outputs": [
    {
     "data": {
      "text/html": [
       "<div>\n",
       "<style scoped>\n",
       "    .dataframe tbody tr th:only-of-type {\n",
       "        vertical-align: middle;\n",
       "    }\n",
       "\n",
       "    .dataframe tbody tr th {\n",
       "        vertical-align: top;\n",
       "    }\n",
       "\n",
       "    .dataframe thead th {\n",
       "        text-align: right;\n",
       "    }\n",
       "</style>\n",
       "<table border=\"1\" class=\"dataframe\">\n",
       "  <thead>\n",
       "    <tr style=\"text-align: right;\">\n",
       "      <th></th>\n",
       "      <th>Average Min. Temperature ▼</th>\n",
       "      <th>State / Population</th>\n",
       "    </tr>\n",
       "  </thead>\n",
       "  <tbody>\n",
       "    <tr>\n",
       "      <th>1</th>\n",
       "      <td>65.09°F</td>\n",
       "      <td>Hawaii / 1,392,704</td>\n",
       "    </tr>\n",
       "    <tr>\n",
       "      <th>2</th>\n",
       "      <td>61.50°F</td>\n",
       "      <td>Florida / 19,361,792</td>\n",
       "    </tr>\n",
       "    <tr>\n",
       "      <th>3</th>\n",
       "      <td>56.07°F</td>\n",
       "      <td>Louisiana / 4,601,049</td>\n",
       "    </tr>\n",
       "    <tr>\n",
       "      <th>4</th>\n",
       "      <td>54.16°F</td>\n",
       "      <td>Texas / 26,092,033</td>\n",
       "    </tr>\n",
       "    <tr>\n",
       "      <th>5</th>\n",
       "      <td>52.26°F</td>\n",
       "      <td>Mississippi / 2,984,345</td>\n",
       "    </tr>\n",
       "  </tbody>\n",
       "</table>\n",
       "</div>"
      ],
      "text/plain": [
       "0 Average Min. Temperature ▼       State / Population\n",
       "1                    65.09°F       Hawaii / 1,392,704\n",
       "2                    61.50°F     Florida / 19,361,792\n",
       "3                    56.07°F    Louisiana / 4,601,049\n",
       "4                    54.16°F       Texas / 26,092,033\n",
       "5                    52.26°F  Mississippi / 2,984,345"
      ]
     },
     "execution_count": 8,
     "metadata": {},
     "output_type": "execute_result"
    }
   ],
   "source": [
    "# drop rank column\n",
    "\n",
    "min_df = min_df[['Average Min. Temperature ▼', 'State / Population']]\n",
    "min_df.head()"
   ]
  },
  {
   "cell_type": "code",
   "execution_count": 9,
   "metadata": {},
   "outputs": [
    {
     "data": {
      "text/html": [
       "<div>\n",
       "<style scoped>\n",
       "    .dataframe tbody tr th:only-of-type {\n",
       "        vertical-align: middle;\n",
       "    }\n",
       "\n",
       "    .dataframe tbody tr th {\n",
       "        vertical-align: top;\n",
       "    }\n",
       "\n",
       "    .dataframe thead th {\n",
       "        text-align: right;\n",
       "    }\n",
       "</style>\n",
       "<table border=\"1\" class=\"dataframe\">\n",
       "  <thead>\n",
       "    <tr style=\"text-align: right;\">\n",
       "      <th></th>\n",
       "      <th>Avg Min Temp (F)</th>\n",
       "      <th>State / Population</th>\n",
       "    </tr>\n",
       "  </thead>\n",
       "  <tbody>\n",
       "    <tr>\n",
       "      <th>1</th>\n",
       "      <td>65.09°F</td>\n",
       "      <td>Hawaii / 1,392,704</td>\n",
       "    </tr>\n",
       "    <tr>\n",
       "      <th>2</th>\n",
       "      <td>61.50°F</td>\n",
       "      <td>Florida / 19,361,792</td>\n",
       "    </tr>\n",
       "    <tr>\n",
       "      <th>3</th>\n",
       "      <td>56.07°F</td>\n",
       "      <td>Louisiana / 4,601,049</td>\n",
       "    </tr>\n",
       "    <tr>\n",
       "      <th>4</th>\n",
       "      <td>54.16°F</td>\n",
       "      <td>Texas / 26,092,033</td>\n",
       "    </tr>\n",
       "    <tr>\n",
       "      <th>5</th>\n",
       "      <td>52.26°F</td>\n",
       "      <td>Mississippi / 2,984,345</td>\n",
       "    </tr>\n",
       "  </tbody>\n",
       "</table>\n",
       "</div>"
      ],
      "text/plain": [
       "0 Avg Min Temp (F)       State / Population\n",
       "1          65.09°F       Hawaii / 1,392,704\n",
       "2          61.50°F     Florida / 19,361,792\n",
       "3          56.07°F    Louisiana / 4,601,049\n",
       "4          54.16°F       Texas / 26,092,033\n",
       "5          52.26°F  Mississippi / 2,984,345"
      ]
     },
     "execution_count": 9,
     "metadata": {},
     "output_type": "execute_result"
    }
   ],
   "source": [
    "# rename temp column \n",
    "\n",
    "min_df = min_df.rename(columns={'Average Min. Temperature ▼':'Avg Min Temp (F)'})\n",
    "min_df.head()"
   ]
  },
  {
   "cell_type": "code",
   "execution_count": 10,
   "metadata": {},
   "outputs": [],
   "source": [
    "# split State/Populatoin column\n",
    "\n",
    "split = min_df['State / Population'].str.split(\" / \", n = 1, expand = True) \n",
    "  \n",
    "# making separate State column from new data frame \n",
    "min_df[\"State\"]= split[0]\n",
    "  \n",
    "# Dropping old column \n",
    "min_df.drop(columns =['State / Population'], inplace = True)"
   ]
  },
  {
   "cell_type": "code",
   "execution_count": 11,
   "metadata": {},
   "outputs": [
    {
     "data": {
      "text/html": [
       "<div>\n",
       "<style scoped>\n",
       "    .dataframe tbody tr th:only-of-type {\n",
       "        vertical-align: middle;\n",
       "    }\n",
       "\n",
       "    .dataframe tbody tr th {\n",
       "        vertical-align: top;\n",
       "    }\n",
       "\n",
       "    .dataframe thead th {\n",
       "        text-align: right;\n",
       "    }\n",
       "</style>\n",
       "<table border=\"1\" class=\"dataframe\">\n",
       "  <thead>\n",
       "    <tr style=\"text-align: right;\">\n",
       "      <th></th>\n",
       "      <th>State</th>\n",
       "      <th>Avg Min Temp (°F)</th>\n",
       "    </tr>\n",
       "  </thead>\n",
       "  <tbody>\n",
       "    <tr>\n",
       "      <th>1</th>\n",
       "      <td>Hawaii</td>\n",
       "      <td>65.09</td>\n",
       "    </tr>\n",
       "    <tr>\n",
       "      <th>2</th>\n",
       "      <td>Florida</td>\n",
       "      <td>61.50</td>\n",
       "    </tr>\n",
       "    <tr>\n",
       "      <th>3</th>\n",
       "      <td>Louisiana</td>\n",
       "      <td>56.07</td>\n",
       "    </tr>\n",
       "    <tr>\n",
       "      <th>4</th>\n",
       "      <td>Texas</td>\n",
       "      <td>54.16</td>\n",
       "    </tr>\n",
       "    <tr>\n",
       "      <th>5</th>\n",
       "      <td>Mississippi</td>\n",
       "      <td>52.26</td>\n",
       "    </tr>\n",
       "  </tbody>\n",
       "</table>\n",
       "</div>"
      ],
      "text/plain": [
       "0        State Avg Min Temp (°F)\n",
       "1       Hawaii             65.09\n",
       "2      Florida             61.50\n",
       "3    Louisiana             56.07\n",
       "4        Texas             54.16\n",
       "5  Mississippi             52.26"
      ]
     },
     "execution_count": 11,
     "metadata": {},
     "output_type": "execute_result"
    }
   ],
   "source": [
    "# split F from temp values \n",
    "\n",
    "split_2 = min_df['Avg Min Temp (F)'].str.split('°F', n=1, expand=True)\n",
    "\n",
    "min_df['Avg Min Temp (°F)'] = split_2[0]\n",
    "\n",
    "min_df.drop(columns=['Avg Min Temp (F)'], inplace=True)\n",
    "\n",
    "min_df.head()"
   ]
  },
  {
   "cell_type": "code",
   "execution_count": 12,
   "metadata": {},
   "outputs": [
    {
     "data": {
      "text/plain": [
       "0\n",
       "State                object\n",
       "Avg Min Temp (°F)    object\n",
       "dtype: object"
      ]
     },
     "execution_count": 12,
     "metadata": {},
     "output_type": "execute_result"
    }
   ],
   "source": [
    "min_df.dtypes"
   ]
  },
  {
   "cell_type": "code",
   "execution_count": 13,
   "metadata": {},
   "outputs": [],
   "source": [
    "# change temperature to numeric value\n",
    "\n",
    "min_df['Avg Min Temp (°F)'] = pd.to_numeric(min_df['Avg Min Temp (°F)'])"
   ]
  },
  {
   "cell_type": "code",
   "execution_count": 14,
   "metadata": {},
   "outputs": [
    {
     "data": {
      "text/plain": [
       "0\n",
       "State                 object\n",
       "Avg Min Temp (°F)    float64\n",
       "dtype: object"
      ]
     },
     "execution_count": 14,
     "metadata": {},
     "output_type": "execute_result"
    }
   ],
   "source": [
    "min_df.dtypes"
   ]
  },
  {
   "cell_type": "code",
   "execution_count": 15,
   "metadata": {},
   "outputs": [],
   "source": [
    "min_df.to_csv(\"Resources/avg_min_temp.csv\", index=False, header=True)"
   ]
  },
  {
   "cell_type": "markdown",
   "metadata": {},
   "source": [
    "## Average Max Temperature"
   ]
  },
  {
   "cell_type": "code",
   "execution_count": 16,
   "metadata": {},
   "outputs": [
    {
     "data": {
      "text/html": [
       "<div>\n",
       "<style scoped>\n",
       "    .dataframe tbody tr th:only-of-type {\n",
       "        vertical-align: middle;\n",
       "    }\n",
       "\n",
       "    .dataframe tbody tr th {\n",
       "        vertical-align: top;\n",
       "    }\n",
       "\n",
       "    .dataframe thead th {\n",
       "        text-align: right;\n",
       "    }\n",
       "</style>\n",
       "<table border=\"1\" class=\"dataframe\">\n",
       "  <thead>\n",
       "    <tr style=\"text-align: right;\">\n",
       "      <th></th>\n",
       "      <th>0</th>\n",
       "      <th>1</th>\n",
       "      <th>2</th>\n",
       "    </tr>\n",
       "  </thead>\n",
       "  <tbody>\n",
       "    <tr>\n",
       "      <th>0</th>\n",
       "      <td>Rank</td>\n",
       "      <td>Average Max. Temperature ▼</td>\n",
       "      <td>State / Population</td>\n",
       "    </tr>\n",
       "    <tr>\n",
       "      <th>1</th>\n",
       "      <td>1.</td>\n",
       "      <td>81.97°F</td>\n",
       "      <td>Florida / 19,361,792</td>\n",
       "    </tr>\n",
       "    <tr>\n",
       "      <th>2</th>\n",
       "      <td>2.</td>\n",
       "      <td>80.66°F</td>\n",
       "      <td>Hawaii / 1,392,704</td>\n",
       "    </tr>\n",
       "    <tr>\n",
       "      <th>3</th>\n",
       "      <td>3.</td>\n",
       "      <td>80.59°F</td>\n",
       "      <td>Arizona / 6,561,516</td>\n",
       "    </tr>\n",
       "    <tr>\n",
       "      <th>4</th>\n",
       "      <td>4.</td>\n",
       "      <td>77.73°F</td>\n",
       "      <td>Texas / 26,092,033</td>\n",
       "    </tr>\n",
       "  </tbody>\n",
       "</table>\n",
       "</div>"
      ],
      "text/plain": [
       "      0                           1                     2\n",
       "0  Rank  Average Max. Temperature ▼    State / Population\n",
       "1    1.                     81.97°F  Florida / 19,361,792\n",
       "2    2.                     80.66°F    Hawaii / 1,392,704\n",
       "3    3.                     80.59°F   Arizona / 6,561,516\n",
       "4    4.                     77.73°F    Texas / 26,092,033"
      ]
     },
     "execution_count": 16,
     "metadata": {},
     "output_type": "execute_result"
    }
   ],
   "source": [
    "# transfer list into dataframe\n",
    "\n",
    "max_df = table_max[0]\n",
    "max_df.head()"
   ]
  },
  {
   "cell_type": "code",
   "execution_count": 17,
   "metadata": {},
   "outputs": [
    {
     "data": {
      "text/html": [
       "<div>\n",
       "<style scoped>\n",
       "    .dataframe tbody tr th:only-of-type {\n",
       "        vertical-align: middle;\n",
       "    }\n",
       "\n",
       "    .dataframe tbody tr th {\n",
       "        vertical-align: top;\n",
       "    }\n",
       "\n",
       "    .dataframe thead th {\n",
       "        text-align: right;\n",
       "    }\n",
       "</style>\n",
       "<table border=\"1\" class=\"dataframe\">\n",
       "  <thead>\n",
       "    <tr style=\"text-align: right;\">\n",
       "      <th></th>\n",
       "      <th>Rank</th>\n",
       "      <th>Average Max. Temperature ▼</th>\n",
       "      <th>State / Population</th>\n",
       "    </tr>\n",
       "  </thead>\n",
       "  <tbody>\n",
       "    <tr>\n",
       "      <th>0</th>\n",
       "      <td>Rank</td>\n",
       "      <td>Average Max. Temperature ▼</td>\n",
       "      <td>State / Population</td>\n",
       "    </tr>\n",
       "    <tr>\n",
       "      <th>1</th>\n",
       "      <td>1.</td>\n",
       "      <td>81.97°F</td>\n",
       "      <td>Florida / 19,361,792</td>\n",
       "    </tr>\n",
       "    <tr>\n",
       "      <th>2</th>\n",
       "      <td>2.</td>\n",
       "      <td>80.66°F</td>\n",
       "      <td>Hawaii / 1,392,704</td>\n",
       "    </tr>\n",
       "    <tr>\n",
       "      <th>3</th>\n",
       "      <td>3.</td>\n",
       "      <td>80.59°F</td>\n",
       "      <td>Arizona / 6,561,516</td>\n",
       "    </tr>\n",
       "    <tr>\n",
       "      <th>4</th>\n",
       "      <td>4.</td>\n",
       "      <td>77.73°F</td>\n",
       "      <td>Texas / 26,092,033</td>\n",
       "    </tr>\n",
       "  </tbody>\n",
       "</table>\n",
       "</div>"
      ],
      "text/plain": [
       "0  Rank  Average Max. Temperature ▼    State / Population\n",
       "0  Rank  Average Max. Temperature ▼    State / Population\n",
       "1    1.                     81.97°F  Florida / 19,361,792\n",
       "2    2.                     80.66°F    Hawaii / 1,392,704\n",
       "3    3.                     80.59°F   Arizona / 6,561,516\n",
       "4    4.                     77.73°F    Texas / 26,092,033"
      ]
     },
     "execution_count": 17,
     "metadata": {},
     "output_type": "execute_result"
    }
   ],
   "source": [
    "# make column headers\n",
    "\n",
    "max_df.columns = max_df.iloc[0]\n",
    "max_df.head()"
   ]
  },
  {
   "cell_type": "code",
   "execution_count": 18,
   "metadata": {},
   "outputs": [],
   "source": [
    "# drop first line\n",
    "\n",
    "max_df = max_df.drop(max_df.index[0])"
   ]
  },
  {
   "cell_type": "code",
   "execution_count": 19,
   "metadata": {},
   "outputs": [
    {
     "data": {
      "text/html": [
       "<div>\n",
       "<style scoped>\n",
       "    .dataframe tbody tr th:only-of-type {\n",
       "        vertical-align: middle;\n",
       "    }\n",
       "\n",
       "    .dataframe tbody tr th {\n",
       "        vertical-align: top;\n",
       "    }\n",
       "\n",
       "    .dataframe thead th {\n",
       "        text-align: right;\n",
       "    }\n",
       "</style>\n",
       "<table border=\"1\" class=\"dataframe\">\n",
       "  <thead>\n",
       "    <tr style=\"text-align: right;\">\n",
       "      <th></th>\n",
       "      <th>Average Max. Temperature ▼</th>\n",
       "      <th>State / Population</th>\n",
       "    </tr>\n",
       "  </thead>\n",
       "  <tbody>\n",
       "    <tr>\n",
       "      <th>1</th>\n",
       "      <td>81.97°F</td>\n",
       "      <td>Florida / 19,361,792</td>\n",
       "    </tr>\n",
       "    <tr>\n",
       "      <th>2</th>\n",
       "      <td>80.66°F</td>\n",
       "      <td>Hawaii / 1,392,704</td>\n",
       "    </tr>\n",
       "    <tr>\n",
       "      <th>3</th>\n",
       "      <td>80.59°F</td>\n",
       "      <td>Arizona / 6,561,516</td>\n",
       "    </tr>\n",
       "    <tr>\n",
       "      <th>4</th>\n",
       "      <td>77.73°F</td>\n",
       "      <td>Texas / 26,092,033</td>\n",
       "    </tr>\n",
       "    <tr>\n",
       "      <th>5</th>\n",
       "      <td>77.33°F</td>\n",
       "      <td>Louisiana / 4,601,049</td>\n",
       "    </tr>\n",
       "  </tbody>\n",
       "</table>\n",
       "</div>"
      ],
      "text/plain": [
       "0 Average Max. Temperature ▼     State / Population\n",
       "1                    81.97°F   Florida / 19,361,792\n",
       "2                    80.66°F     Hawaii / 1,392,704\n",
       "3                    80.59°F    Arizona / 6,561,516\n",
       "4                    77.73°F     Texas / 26,092,033\n",
       "5                    77.33°F  Louisiana / 4,601,049"
      ]
     },
     "execution_count": 19,
     "metadata": {},
     "output_type": "execute_result"
    }
   ],
   "source": [
    "# drop rank column\n",
    "\n",
    "max_df = max_df[['Average Max. Temperature ▼', 'State / Population']]\n",
    "max_df.head()"
   ]
  },
  {
   "cell_type": "code",
   "execution_count": 20,
   "metadata": {},
   "outputs": [
    {
     "data": {
      "text/html": [
       "<div>\n",
       "<style scoped>\n",
       "    .dataframe tbody tr th:only-of-type {\n",
       "        vertical-align: middle;\n",
       "    }\n",
       "\n",
       "    .dataframe tbody tr th {\n",
       "        vertical-align: top;\n",
       "    }\n",
       "\n",
       "    .dataframe thead th {\n",
       "        text-align: right;\n",
       "    }\n",
       "</style>\n",
       "<table border=\"1\" class=\"dataframe\">\n",
       "  <thead>\n",
       "    <tr style=\"text-align: right;\">\n",
       "      <th></th>\n",
       "      <th>Avg Max Temp (F)</th>\n",
       "      <th>State / Population</th>\n",
       "    </tr>\n",
       "  </thead>\n",
       "  <tbody>\n",
       "    <tr>\n",
       "      <th>1</th>\n",
       "      <td>81.97°F</td>\n",
       "      <td>Florida / 19,361,792</td>\n",
       "    </tr>\n",
       "    <tr>\n",
       "      <th>2</th>\n",
       "      <td>80.66°F</td>\n",
       "      <td>Hawaii / 1,392,704</td>\n",
       "    </tr>\n",
       "    <tr>\n",
       "      <th>3</th>\n",
       "      <td>80.59°F</td>\n",
       "      <td>Arizona / 6,561,516</td>\n",
       "    </tr>\n",
       "    <tr>\n",
       "      <th>4</th>\n",
       "      <td>77.73°F</td>\n",
       "      <td>Texas / 26,092,033</td>\n",
       "    </tr>\n",
       "    <tr>\n",
       "      <th>5</th>\n",
       "      <td>77.33°F</td>\n",
       "      <td>Louisiana / 4,601,049</td>\n",
       "    </tr>\n",
       "  </tbody>\n",
       "</table>\n",
       "</div>"
      ],
      "text/plain": [
       "0 Avg Max Temp (F)     State / Population\n",
       "1          81.97°F   Florida / 19,361,792\n",
       "2          80.66°F     Hawaii / 1,392,704\n",
       "3          80.59°F    Arizona / 6,561,516\n",
       "4          77.73°F     Texas / 26,092,033\n",
       "5          77.33°F  Louisiana / 4,601,049"
      ]
     },
     "execution_count": 20,
     "metadata": {},
     "output_type": "execute_result"
    }
   ],
   "source": [
    "# rename temp column \n",
    "\n",
    "max_df = max_df.rename(columns={'Average Max. Temperature ▼':'Avg Max Temp (F)'})\n",
    "max_df.head()"
   ]
  },
  {
   "cell_type": "code",
   "execution_count": 21,
   "metadata": {},
   "outputs": [],
   "source": [
    "# split State/Populatoin column\n",
    "\n",
    "split_3 = max_df['State / Population'].str.split(\" / \", n = 1, expand = True) \n",
    "  \n",
    "# making separate State column from new data frame \n",
    "max_df[\"State\"]= split_3[0]\n",
    "  \n",
    "# Dropping old column \n",
    "max_df.drop(columns =['State / Population'], inplace = True)"
   ]
  },
  {
   "cell_type": "code",
   "execution_count": 22,
   "metadata": {},
   "outputs": [
    {
     "data": {
      "text/html": [
       "<div>\n",
       "<style scoped>\n",
       "    .dataframe tbody tr th:only-of-type {\n",
       "        vertical-align: middle;\n",
       "    }\n",
       "\n",
       "    .dataframe tbody tr th {\n",
       "        vertical-align: top;\n",
       "    }\n",
       "\n",
       "    .dataframe thead th {\n",
       "        text-align: right;\n",
       "    }\n",
       "</style>\n",
       "<table border=\"1\" class=\"dataframe\">\n",
       "  <thead>\n",
       "    <tr style=\"text-align: right;\">\n",
       "      <th></th>\n",
       "      <th>State</th>\n",
       "      <th>Avg Max Temp (°F)</th>\n",
       "    </tr>\n",
       "  </thead>\n",
       "  <tbody>\n",
       "    <tr>\n",
       "      <th>1</th>\n",
       "      <td>Florida</td>\n",
       "      <td>81.97</td>\n",
       "    </tr>\n",
       "    <tr>\n",
       "      <th>2</th>\n",
       "      <td>Hawaii</td>\n",
       "      <td>80.66</td>\n",
       "    </tr>\n",
       "    <tr>\n",
       "      <th>3</th>\n",
       "      <td>Arizona</td>\n",
       "      <td>80.59</td>\n",
       "    </tr>\n",
       "    <tr>\n",
       "      <th>4</th>\n",
       "      <td>Texas</td>\n",
       "      <td>77.73</td>\n",
       "    </tr>\n",
       "    <tr>\n",
       "      <th>5</th>\n",
       "      <td>Louisiana</td>\n",
       "      <td>77.33</td>\n",
       "    </tr>\n",
       "  </tbody>\n",
       "</table>\n",
       "</div>"
      ],
      "text/plain": [
       "0      State Avg Max Temp (°F)\n",
       "1    Florida             81.97\n",
       "2     Hawaii             80.66\n",
       "3    Arizona             80.59\n",
       "4      Texas             77.73\n",
       "5  Louisiana             77.33"
      ]
     },
     "execution_count": 22,
     "metadata": {},
     "output_type": "execute_result"
    }
   ],
   "source": [
    "# split F from temp values \n",
    "\n",
    "split_4 = max_df['Avg Max Temp (F)'].str.split('°F', n=1, expand=True)\n",
    "\n",
    "max_df['Avg Max Temp (°F)'] = split_4[0]\n",
    "\n",
    "max_df.drop(columns=['Avg Max Temp (F)'], inplace=True)\n",
    "\n",
    "max_df.head()"
   ]
  },
  {
   "cell_type": "code",
   "execution_count": 23,
   "metadata": {},
   "outputs": [],
   "source": [
    "# change temperature to numeric value\n",
    "\n",
    "max_df['Avg Max Temp (°F)'] = pd.to_numeric(max_df['Avg Max Temp (°F)'])"
   ]
  },
  {
   "cell_type": "code",
   "execution_count": 24,
   "metadata": {},
   "outputs": [],
   "source": [
    "max_df.to_csv(\"Resources/avg_max_temp.csv\", index=False, header=True)"
   ]
  },
  {
   "cell_type": "code",
   "execution_count": null,
   "metadata": {},
   "outputs": [],
   "source": []
  }
 ],
 "metadata": {
  "kernelspec": {
   "display_name": "Python 3",
   "language": "python",
   "name": "python3"
  },
  "language_info": {
   "codemirror_mode": {
    "name": "ipython",
    "version": 3
   },
   "file_extension": ".py",
   "mimetype": "text/x-python",
   "name": "python",
   "nbconvert_exporter": "python",
   "pygments_lexer": "ipython3",
   "version": "3.6.9"
  }
 },
 "nbformat": 4,
 "nbformat_minor": 2
}
